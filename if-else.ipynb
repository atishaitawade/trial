{
 "cells": [
  {
   "cell_type": "markdown",
   "id": "91338379",
   "metadata": {},
   "source": [
    "# if-else syntax"
   ]
  },
  {
   "cell_type": "markdown",
   "id": "3e51d26f",
   "metadata": {},
   "source": [
    "Syntax:\n",
    "if condition :\n",
    "    statement 1\n",
    "else:\n",
    "    statement 2\n",
    "    "
   ]
  },
  {
   "cell_type": "code",
   "execution_count": 7,
   "id": "f85caf84",
   "metadata": {},
   "outputs": [
    {
     "name": "stdout",
     "output_type": "stream",
     "text": [
      "Enter your age: 12\n",
      "NA\n"
     ]
    }
   ],
   "source": [
    "#Program to check whether you are eligible to vote or not\n",
    "\n",
    "age=int(input(\"Enter your age: \"))\n",
    "if (age>=18):\n",
    "    print(\"Eligible to vote\")\n",
    "else:\n",
    "    print(\"NA\")"
   ]
  },
  {
   "cell_type": "code",
   "execution_count": null,
   "id": "59183c1e",
   "metadata": {},
   "outputs": [
    {
     "name": "stdout",
     "output_type": "stream",
     "text": [
      "Enter your age: \n"
     ]
    }
   ],
   "source": [
    "#Program to check whether you are eligible to vote or not\n",
    "\n",
    "print(\"Enter your age: \")\n",
    "age=int(input())\n",
    "if (age>=18):\n",
    "    print(\"Eligible to vote\")\n",
    "else:\n",
    "    print(\"NA\")"
   ]
  },
  {
   "cell_type": "code",
   "execution_count": 2,
   "id": "41b39ec1",
   "metadata": {
    "scrolled": true
   },
   "outputs": [
    {
     "name": "stdout",
     "output_type": "stream",
     "text": [
      "3\n"
     ]
    }
   ],
   "source": [
    "# If-else: Print largest of two numbers\n",
    "a=2\n",
    "b=3\n",
    "if a>b:\n",
    "    print(a)\n",
    "else:\n",
    "    print(b)"
   ]
  },
  {
   "cell_type": "code",
   "execution_count": 24,
   "id": "3216ffc4",
   "metadata": {},
   "outputs": [
    {
     "name": "stdout",
     "output_type": "stream",
     "text": [
      "Are you fit ? \n",
      "y\n",
      "Relax \n"
     ]
    }
   ],
   "source": [
    "choice=input(\"Are you fit ? \\n\")\n",
    "if choice == \"Y\" or choice == \"YES\":\n",
    "    print(\"Then, Let's play football \")\n",
    "else:\n",
    "    print(\"Relax \")"
   ]
  },
  {
   "cell_type": "code",
   "execution_count": 23,
   "id": "d27f973a",
   "metadata": {},
   "outputs": [
    {
     "name": "stdout",
     "output_type": "stream",
     "text": [
      "Are you fit ? \n",
      "y\n",
      "Let's play football \n"
     ]
    }
   ],
   "source": [
    "choice=input(\"Are you fit ? \\n\")\n",
    "choice=choice.upper()\n",
    "if choice == \"Y\" or choice == \"YES\":\n",
    "    print(\"Let's play football \")\n",
    "else:\n",
    "    print(\"Relax \")"
   ]
  },
  {
   "cell_type": "markdown",
   "id": "b21190d6",
   "metadata": {},
   "source": [
    "# if-else-if\n",
    "\n",
    "if condition :\n",
    "    statement 1\n",
    "elif:\n",
    "    statement 2\n",
    "else\n",
    "    statement 3"
   ]
  },
  {
   "cell_type": "code",
   "execution_count": null,
   "id": "18cf1f75",
   "metadata": {},
   "outputs": [],
   "source": [
    "#if-else-if\n",
    "\n",
    "a = 100\n",
    "b = 100\n",
    "if b > a:\n",
    "  print(\"b is greater than a\")\n",
    "elif a == b:\n",
    "  print(\"a and b are equal\")\n",
    "else:\n",
    "  print(\"a is greater than b\")"
   ]
  },
  {
   "cell_type": "code",
   "execution_count": null,
   "id": "9aa8189e",
   "metadata": {},
   "outputs": [],
   "source": [
    "#Print Day of the week using if-else-if\n",
    "x = int(input())\n",
    "if x==1:\n",
    "    print(\"Monday\")\n",
    "elif x==2:\n",
    "    print(\"Tuesday\")\n",
    "else:\n",
    "    print(\"Invalid\")"
   ]
  },
  {
   "cell_type": "code",
   "execution_count": 8,
   "id": "59deefa5",
   "metadata": {
    "scrolled": true
   },
   "outputs": [
    {
     "name": "stdout",
     "output_type": "stream",
     "text": [
      "Are you fit ?yes\n",
      "Let's play a game : \n"
     ]
    }
   ],
   "source": [
    "choice=input(\"Are you fit ?\")\n",
    "if choice == \"y\" or choice == \"Y\":\n",
    "    print(\"Let's play football \")\n",
    "else:\n",
    "    print(\"Relax \")"
   ]
  },
  {
   "cell_type": "markdown",
   "id": "f966f7f1",
   "metadata": {},
   "source": [
    "# Nested if "
   ]
  },
  {
   "cell_type": "markdown",
   "id": "b781f410",
   "metadata": {},
   "source": [
    "syntax:\n",
    "if condition 1:\n",
    "   if condition 2:\n",
    "       statement 1\n",
    "    else\n",
    "        statement 2\n",
    "else\n",
    "        statement 3\n",
    "        "
   ]
  },
  {
   "cell_type": "code",
   "execution_count": 7,
   "id": "a2ff8019",
   "metadata": {},
   "outputs": [
    {
     "name": "stdout",
     "output_type": "stream",
     "text": [
      "500 is largest:\n"
     ]
    }
   ],
   "source": [
    "a=60\n",
    "b=500\n",
    "c=40\n",
    "if a>b:\n",
    "    if a>c:\n",
    "        print(a, \"is largest: \")\n",
    "    else:\n",
    "        print(c, \"is largest\")\n",
    "elif b>c:\n",
    "    print(b, \"is largest:\")\n",
    "else:\n",
    "    print(c,\"is largest:\")"
   ]
  },
  {
   "cell_type": "code",
   "execution_count": 11,
   "id": "1161f5cf",
   "metadata": {},
   "outputs": [
    {
     "name": "stdout",
     "output_type": "stream",
     "text": [
      "Do you have money:n\n",
      "Watch videos on Youtube\n"
     ]
    }
   ],
   "source": [
    "money=input(\"Do you have money:\")\n",
    "money=money.lower()\n",
    "if money == 'y':\n",
    "    print(\"How much do you have?\")\n",
    "    amt=int(input())\n",
    "    if amt>250:\n",
    "        print(\"Watch a movie in PVR\")\n",
    "    else:\n",
    "        print(\"Watch a movie in single screen\")\n",
    "else:\n",
    "    print(\"Watch videos on Youtube\")\n"
   ]
  },
  {
   "cell_type": "code",
   "execution_count": 3,
   "id": "04d0cf43",
   "metadata": {},
   "outputs": [
    {
     "name": "stdout",
     "output_type": "stream",
     "text": [
      "Enter any number: 100\n",
      "100  is an even number\n"
     ]
    }
   ],
   "source": [
    "#even or odd number\n",
    "\n",
    "num=int(input(\"Enter any number: \"))\n",
    "if num%2 == 0:\n",
    "    print(num, \" is an even number\")\n",
    "else:\n",
    "    print(num,\" is an odd number\")"
   ]
  },
  {
   "cell_type": "code",
   "execution_count": 5,
   "id": "b419ab93",
   "metadata": {},
   "outputs": [
    {
     "name": "stdout",
     "output_type": "stream",
     "text": [
      "Enter any number: 2024\n",
      "2024  is a leap year\n"
     ]
    }
   ],
   "source": [
    "#Leap Year or not\n",
    "\n",
    "y=int(input(\"Enter any number: \"))\n",
    "if y%4 != 0:\n",
    "    print(y, \" is not a leap year\")\n",
    "else:\n",
    "    print(y,\" is a leap year\")"
   ]
  },
  {
   "cell_type": "code",
   "execution_count": null,
   "id": "7eb866b4",
   "metadata": {},
   "outputs": [],
   "source": []
  }
 ],
 "metadata": {
  "kernelspec": {
   "display_name": "Python 3 (ipykernel)",
   "language": "python",
   "name": "python3"
  },
  "language_info": {
   "codemirror_mode": {
    "name": "ipython",
    "version": 3
   },
   "file_extension": ".py",
   "mimetype": "text/x-python",
   "name": "python",
   "nbconvert_exporter": "python",
   "pygments_lexer": "ipython3",
   "version": "3.11.3"
  }
 },
 "nbformat": 4,
 "nbformat_minor": 5
}
